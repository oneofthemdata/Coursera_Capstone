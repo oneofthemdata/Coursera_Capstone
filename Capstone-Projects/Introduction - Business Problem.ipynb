{
 "cells": [
  {
   "cell_type": "markdown",
   "metadata": {},
   "source": [
    "# **<div style=\"text-align: center\"> Capstone Project </div>**"
   ]
  },
  {
   "cell_type": "markdown",
   "metadata": {},
   "source": [
    "## Introduction: Business Problem"
   ]
  },
  {
   "cell_type": "markdown",
   "metadata": {},
   "source": [
    "In this project our goal is to find most favorible location for a car mechanic shop in Maryland, USA. This report will be compatible with shareholders needs.\n",
    "\n",
    "In accordance with shareholders request, we will find the best location which will be close to close to cities but not close range to any of compatition. Using data science methodology and instruments such as data analysis and visualization, this project aims to provide optimal location.\n",
    "Thus, we will compare Foursquare data to registered passenger vehicle data.\n",
    "\n",
    "We will use our data science powers to generate a few most promissing neighborhoods based on this criteria. Advantages of each area will then be clearly expressed so that best possible final location can be chosen by stakeholders."
   ]
  }
 ],
 "metadata": {
  "kernelspec": {
   "display_name": "Python 3",
   "language": "python",
   "name": "python3"
  },
  "language_info": {
   "codemirror_mode": {
    "name": "ipython",
    "version": 3
   },
   "file_extension": ".py",
   "mimetype": "text/x-python",
   "name": "python",
   "nbconvert_exporter": "python",
   "pygments_lexer": "ipython3",
   "version": "3.8.5"
  }
 },
 "nbformat": 4,
 "nbformat_minor": 4
}
